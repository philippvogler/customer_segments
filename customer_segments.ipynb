{
 "cells": [
  {
   "cell_type": "markdown",
   "metadata": {},
   "source": [
    "# Creating Customer Segments"
   ]
  },
  {
   "cell_type": "markdown",
   "metadata": {},
   "source": [
    "In this project you, will analyze a dataset containing annual spending amounts for internal structure, to understand the variation in the different types of customers that a wholesale distributor interacts with.\n",
    "\n",
    "Instructions:\n",
    "\n",
    "- Run each code block below by pressing **Shift+Enter**, making sure to implement any steps marked with a TODO.\n",
    "- Answer each question in the space provided by editing the blocks labeled \"Answer:\".\n",
    "- When you are done, submit the completed notebook (.ipynb) with all code blocks executed, as well as a .pdf version (File > Download as)."
   ]
  },
  {
   "cell_type": "code",
   "execution_count": 1,
   "metadata": {
    "collapsed": false
   },
   "outputs": [
    {
     "name": "stdout",
     "output_type": "stream",
     "text": [
      "Dataset has 440 rows, 6 columns\n",
      "   Fresh  Milk  Grocery  Frozen  Detergents_Paper  Delicatessen\n",
      "0  12669  9656     7561     214              2674          1338\n",
      "1   7057  9810     9568    1762              3293          1776\n",
      "2   6353  8808     7684    2405              3516          7844\n",
      "3  13265  1196     4221    6404               507          1788\n",
      "4  22615  5410     7198    3915              1777          5185\n"
     ]
    }
   ],
   "source": [
    "# Import libraries: NumPy, pandas, matplotlib\n",
    "import numpy as np\n",
    "import pandas as pd\n",
    "import matplotlib.pyplot as plt\n",
    "\n",
    "\n",
    "# Tell iPython to include plots inline in the notebook\n",
    "%matplotlib inline\n",
    "\n",
    "# Read dataset\n",
    "data = pd.read_csv(\"wholesale-customers.csv\")\n",
    "print \"Dataset has {} rows, {} columns\".format(*data.shape)\n",
    "print data.head()  # print the first 5 rows"
   ]
  },
  {
   "cell_type": "markdown",
   "metadata": {},
   "source": [
    "## Feature Transformation"
   ]
  },
  {
   "cell_type": "markdown",
   "metadata": {},
   "source": [
    "**1)** In this section you will be using PCA and ICA to start to understand the structure of the data. Before doing any computations, what do you think will show up in your computations? List one or two ideas for what might show up as the first PCA dimensions, or what type of vectors will show up as ICA dimensions."
   ]
  },
  {
   "cell_type": "markdown",
   "metadata": {},
   "source": [
    "Answer:\n",
    "\n",
    "**PCA**  \n",
    "tries to find correlations by looking for the maximum variance. So the first dimensions for the PCs are, what has the largest range of values in the data set.  \n",
    "Possible first dimensions:\n",
    "- the amount in which a certain category is replenished\n",
    "- the size of the customers business\n",
    "\n",
    "**ICA**  \n",
    "tries to transform the feature space towards maximal independence. So the first dimension will contain the most common information in the data set. And the following dimensions will consist of the least common information. \n",
    "Possible type of vectors dimensions: \n",
    "- the average replenishment profile of a category\n",
    "- different replenishment profiles for certain customer groups\n",
    "\n",
    "source: https://www.udacity.com/course/viewer#!/c-ud727-nd/l-5453051650/m-661438547"
   ]
  },
  {
   "cell_type": "markdown",
   "metadata": {},
   "source": [
    "### PCA"
   ]
  },
  {
   "cell_type": "code",
   "execution_count": 2,
   "metadata": {
    "collapsed": false,
    "scrolled": true
   },
   "outputs": [
    {
     "name": "stdout",
     "output_type": "stream",
     "text": [
      "[[-0.97653685 -0.12118407 -0.06154039 -0.15236462  0.00705417 -0.06810471]\n",
      " [-0.11061386  0.51580216  0.76460638 -0.01872345  0.36535076  0.05707921]\n",
      " [-0.17855726  0.50988675 -0.27578088  0.71420037 -0.20440987  0.28321747]\n",
      " [-0.04187648 -0.64564047  0.37546049  0.64629232  0.14938013 -0.02039579]\n",
      " [ 0.015986    0.20323566 -0.1602915   0.22018612  0.20793016 -0.91707659]\n",
      " [-0.01576316  0.03349187  0.41093894 -0.01328898 -0.87128428 -0.26541687]]\n",
      "[ 0.45961362  0.40517227  0.07003008  0.04402344  0.01502212  0.00613848]\n"
     ]
    }
   ],
   "source": [
    "# TODO: Apply PCA with the same number of dimensions as variables in the dataset\n",
    "from sklearn.decomposition import PCA\n",
    "\n",
    "pca = PCA(n_components = data.shape[1])\n",
    "pca.fit(data)\n",
    "#http://scikit-learn.org/stable/modules/generated/sklearn.decomposition.PCA.html#sklearn.decomposition.PCA\n",
    "\n",
    "# Print the components and the amount of variance in the data contained in each dimension\n",
    "print pca.components_\n",
    "print pca.explained_variance_ratio_"
   ]
  },
  {
   "cell_type": "markdown",
   "metadata": {},
   "source": [
    "**2)** How quickly does the variance drop off by dimension? If you were to use PCA on this dataset, how many dimensions would you choose for your analysis? Why?"
   ]
  },
  {
   "cell_type": "code",
   "execution_count": 3,
   "metadata": {
    "collapsed": false
   },
   "outputs": [
    {
     "data": {
      "image/png": "[encoded data removed]",
      "text/plain": [
       "<matplotlib.figure.Figure at 0x1085ca250>"
      ]
     },
     "metadata": {},
     "output_type": "display_data"
    }
   ],
   "source": [
    "# PCs variance plot\n",
    "\n",
    "cs = np.cumsum(pca.explained_variance_ratio_)\n",
    "#https://github.com/numpy/numpy/blob/v1.10.0/numpy/core/fromnumeric.py#L2038-L2106\n",
    "#http://docs.scipy.org/doc/numpy-1.10.0/reference/generated/numpy.cumsum.html\n",
    "\n",
    "# Number array for PCs\n",
    "num_PCs = np.arange(data.shape[1])+1\n",
    "#http://docs.scipy.org/doc/numpy-1.10.1/user/basics.creation.html\n",
    "\n",
    "plt.plot(num_PCs, cs)\n",
    "plt.plot(num_PCs, pca.explained_variance_ratio_)\n",
    "#http://matplotlib.org/users/pyplot_tutorial.html\n",
    "\n",
    "plt.axis([1, data.shape[1], 0, 1.1])\n",
    "plt.xlabel('Number of PCs')\n",
    "plt.ylabel('explained variance')\n",
    "plt.legend(['cumulativ', 'single'], loc='center right')\n",
    "plt.show()"
   ]
  },
  {
   "cell_type": "markdown",
   "metadata": {
    "collapsed": true
   },
   "source": [
    "Answer:  \n",
    "\n",
    "[ **0.45961362  0.40517227**  0.07003008  0.04402344  0.01502212  0.00613848]  \n",
    "\n",
    "The first two PCs make for more than 80% of explained variance. The third PC adds 7% to explained variance. All additional PCs add less than 5% to explained variance. \n",
    "Depending on how much I want/need to reduce my data set, I would pick the first 2 to 3 PCs. In this case, with a relatively small dataset, it is reasonable to use 3 PCs. To retain as much information as possible. With larger datasets, I probably go for only 2 PCs, because it is computational cheaper/faster."
   ]
  },
  {
   "cell_type": "markdown",
   "metadata": {},
   "source": [
    "**3)** What do the dimensions seem to represent? How can you use this information?"
   ]
  },
  {
   "cell_type": "markdown",
   "metadata": {
    "collapsed": true
   },
   "source": [
    "Answer:  \n",
    "\n",
    "These dimensions represent the directions in R<sup>6</sup> that show the most variance i.e. the largest range of values.   \n",
    "\n",
    "[**-0.97653685** **-0.12118407** -0.06154039 **-0.15236462**  0.00705417 -0.06810471]  \n",
    "*The **first dimension** of the PCA has a huge emphasis on the 'Fresh' feature and by similarity some emphasis on 'Milk' and 'Frozen'. This component captures the extent to which a customer orders **perishables** i.e. temperature controlled goods. This component has the greatest influence on customers ordering habits.*  \n",
    "\n",
    "[-0.11061386  **0.51580216**  **0.76460638** -0.01872345  **0.36535076**  0.05707921]  \n",
    "*The **second dimension** of the PCA has a huge emphasis on the 'Grocery' feature and some emphasis on 'Milk' and 'Detergents Paper'. This component captures the extent to which customer orders **fast moving consumer goods**. This component also has  a great influence on customers ordering habits.*  \n",
    "\n",
    "[-0.17855726  0.50988675 -0.27578088  **0.71420037** -0.20440987  0.28321747]  \n",
    "*The **third dimension** of the PCA has an emphasis on the 'Frozen' feature but is otherwise not as distinct as the first two dimensions.*  "
   ]
  },
  {
   "cell_type": "markdown",
   "metadata": {},
   "source": [
    "### ICA"
   ]
  },
  {
   "cell_type": "code",
   "execution_count": 4,
   "metadata": {
    "collapsed": false
   },
   "outputs": [
    {
     "name": "stdout",
     "output_type": "stream",
     "text": [
      "[[-0.00251976  0.01317329 -0.0687951  -0.00146515  0.01284917  0.00512613]\n",
      " [-0.00207125 -0.07226348  0.05612073  0.00161492 -0.01739495  0.01690194]\n",
      " [-0.05026019  0.00660952  0.00710853  0.00324596 -0.01117553  0.00270222]\n",
      " [ 0.00490065  0.00165661  0.00558927  0.00254135 -0.00240962 -0.05096911]\n",
      " [-0.00343196  0.018732    0.10940523 -0.00722317 -0.13346734 -0.01608606]\n",
      " [ 0.0108979   0.00114423 -0.00739184 -0.05405578  0.00256539  0.01673036]]\n"
     ]
    },
    {
     "name": "stderr",
     "output_type": "stream",
     "text": [
      "/Users/philipp/anaconda/lib/python2.7/site-packages/sklearn/utils/validation.py:498: UserWarning: StandardScaler assumes floating point values as input, got int64\n",
      "  \"got %s\" % (estimator, X.dtype))\n"
     ]
    }
   ],
   "source": [
    "# TODO: Fit an ICA model to the data\n",
    "# Note: Adjust the data to have center at the origin first!\n",
    "from sklearn.decomposition import FastICA\n",
    "from sklearn import preprocessing\n",
    "\n",
    "# feature centering\n",
    "scaler = preprocessing.StandardScaler(copy=True, with_mean=True, with_std=True).fit(data.astype(float))\n",
    "data_centered = scaler.transform(data)\n",
    "# http://scikit-learn.org/stable/modules/preprocessing.htmltable/auto_examples/decomposition/plot_faces_decomposition.html#example-decomposition-plot-faces-decomposition-py\n",
    "\n",
    "ica = FastICA()\n",
    "ica.fit(data_centered).transform(data_centered)\n",
    "# http://scikit-learn.org/stable/modules/generated/sklearn.decomposition.FastICA.html#sklearn.decomposition.FastICA\n",
    "\n",
    "# Print the independent components\n",
    "print ica.components_"
   ]
  },
  {
   "cell_type": "markdown",
   "metadata": {},
   "source": [
    "**4)** For each vector in the ICA decomposition, write a sentence or two explaining what sort of object or property it corresponds to. What could these components be used for?"
   ]
  },
  {
   "cell_type": "markdown",
   "metadata": {
    "collapsed": true
   },
   "source": [
    "Answer:  \n",
    "\n",
    "[-0.00490526 -0.00159944 -0.00558149 -0.00251253  0.00240565  **0.05094019**]  \n",
    "*The first component captures customers with a high preference for the 'Delicatessen' feature. These customers probably run specialized 'fine food' stores like Dean and Deluca.*  \n",
    "\n",
    "[-0.00333902  0.01923852  **0.10788913** -0.00726281 **-0.1331113**  -0.0160667 ]  \n",
    "*The second component captures customers with a high preference for the 'Detergents Paper' and the 'Grocery' feature. These customers probably run small corner stores like the seven eleven chain.*  \n",
    "\n",
    "[ 0.00247052 **-0.01275896**  **0.07072851**  0.00132303 **-0.01526677** -0.00546721]  \n",
    "*The third component captures customers with a high preference for the 'Grocery' feature and some preference for 'Detergents Paper' and 'Milk'. These customers probably run kiosk-style stores like gas stations.*  \n",
    "\n",
    "[ 0.00205215  **0.07220843** **-0.05661183** -0.00163037  **0.01792716** **-0.01686188**]  \n",
    "*The fourth component captures customers with a broad set of preferences like the 'Milk', 'Grocery', 'Detergents Paper', and 'Delicatessen' feature. These customers probably run supermarkets.*  \n",
    "\n",
    "[**-0.05026781**  0.00659388  0.00744547  0.00321647 **-0.01153712**  0.00267678]  \n",
    "*The fifth component captures customers with a high preference for the 'Fresh' feature and some preference for 'Detergents_Paper'. These customers probably run fruit and vegetable stores.*  \n",
    "\n",
    "[**-0.01090446** -0.00108012  0.00735809  **0.05405678** -0.00255502 **-0.01677352**]\n",
    "*The sixth component captures customers with a high preference for the 'Frozen' and some preference for 'Fresh' and 'Delicatessen'. These customers probably run central food markets or upper-end supermarket chains.*  "
   ]
  },
  {
   "cell_type": "markdown",
   "metadata": {},
   "source": [
    "## Clustering\n",
    "\n",
    "In this section you will choose either K Means clustering or Gaussian Mixed Models clustering, which implements expectation-maximization. Then you will sample elements from the clusters to understand their significance."
   ]
  },
  {
   "cell_type": "markdown",
   "metadata": {},
   "source": [
    "### Choose a Cluster Type\n",
    "\n",
    "**5)** What are the advantages of using K Means clustering or Gaussian Mixture Models?"
   ]
  },
  {
   "cell_type": "markdown",
   "metadata": {},
   "source": [
    "Answer:  \n",
    "\n",
    "#### K-Means advantages  \n",
    "- \"scales well to [a] large number of samples.\"\n",
    "- \"General-purpose\" clustering algorithm\n",
    "- \"has been used (successfully) across a large range of application areas.\"\n",
    "- \"K-Means can be seen as a special case of Gaussian mixture model with equal covariance per component.\"\n",
    "\n",
    "#### Gaussian Mixture Models advantages  \n",
    "- \"incorporate information about the covariance structure of the data.\"\n",
    "- \"can also draw confidence ellipsoids for multivariate models.\"\n",
    "- \"compute the Bayesian Information Criterion to assess the number of clusters in the data.\"\n",
    "- \"it is the fastest algorithm for learning mixture models.\"\n",
    "- \"as this algorithm maximizes only the likelihood, it will not be bias the means towards zero, or bias the cluster sizes to have specific structures that might or might not apply.\"\n",
    "\n",
    "source: http://scikit-learn.org/stable/modules/mixture.html#mixture, http://scikit-learn.org/stable/modules/clustering.html#k-means, https://www.udacity.com/course/viewer#!/c-ud727-nd/l-5455061279/m-638188663\n",
    "\n",
    "*The advantages of Gaussian  Mixture Models do not apply to this problem. Neither information about covariance is asked nor a confidence ellipsoid. Computation time is not critical more eighth. I go with K-Means as the \"general-purpose\" clustering algorithm.*\n"
   ]
  },
  {
   "cell_type": "markdown",
   "metadata": {},
   "source": [
    "**6)** Below is some starter code to help you visualize some cluster data. The visualization is based on [this demo](http://scikit-learn.org/stable/auto_examples/cluster/plot_kmeans_digits.html) from the sklearn documentation."
   ]
  },
  {
   "cell_type": "code",
   "execution_count": 5,
   "metadata": {
    "collapsed": true
   },
   "outputs": [],
   "source": [
    "# Import clustering modules\n",
    "from sklearn.cluster import KMeans\n",
    "#from sklearn.mixture import GMM"
   ]
  },
  {
   "cell_type": "code",
   "execution_count": 6,
   "metadata": {
    "collapsed": false
   },
   "outputs": [
    {
     "name": "stdout",
     "output_type": "stream",
     "text": [
      "[[  -650.02212207   1585.51909007]\n",
      " [  4426.80497937   4042.45150884]\n",
      " [  4841.9987068    2578.762176  ]\n",
      " [  -990.34643689  -6279.80599663]\n",
      " [-10657.99873116  -2159.72581518]\n",
      " [  2765.96159271   -959.87072713]\n",
      " [   715.55089221  -2013.00226567]\n",
      " [  4474.58366697   1429.49697204]\n",
      " [  6712.09539718  -2205.90915598]\n",
      " [  4823.63435407  13480.55920489]]\n"
     ]
    }
   ],
   "source": [
    "# TODO: First we reduce the data to two dimensions using PCA to capture variation\n",
    "\n",
    "pca2 = PCA(n_components = 2)\n",
    "reduced_data = pca2.fit(data).transform(data)\n",
    "# http://scikit-learn.org/stable/auto_examples/decomposition/plot_pca_vs_lda.html#example-decomposition-plot-pca-vs-lda-py\n",
    "\n",
    "print reduced_data[:10]  # print upto 10 elements"
   ]
  },
  {
   "cell_type": "code",
   "execution_count": 7,
   "metadata": {
    "collapsed": false
   },
   "outputs": [
    {
     "name": "stdout",
     "output_type": "stream",
     "text": [
      "KMeans(copy_x=True, init='k-means++', max_iter=300, n_clusters=2, n_init=10,\n",
      "    n_jobs=1, precompute_distances='auto', random_state=None, tol=0.0001,\n",
      "    verbose=0)\n",
      "KMeans(copy_x=True, init='k-means++', max_iter=300, n_clusters=3, n_init=10,\n",
      "    n_jobs=1, precompute_distances='auto', random_state=None, tol=0.0001,\n",
      "    verbose=0)\n",
      "KMeans(copy_x=True, init='k-means++', max_iter=300, n_clusters=4, n_init=10,\n",
      "    n_jobs=1, precompute_distances='auto', random_state=None, tol=0.0001,\n",
      "    verbose=0)\n",
      "KMeans(copy_x=True, init='k-means++', max_iter=300, n_clusters=5, n_init=10,\n",
      "    n_jobs=1, precompute_distances='auto', random_state=None, tol=0.0001,\n",
      "    verbose=0)\n"
     ]
    }
   ],
   "source": [
    "# TODO: Implement your clustering algorithm here, and fit it to the reduced data for visualization\n",
    "# The visualizer below assumes your clustering object is named 'clusters'\n",
    "\n",
    "#KMeans\n",
    "clf_2 = KMeans(n_clusters = 2, init = 'k-means++', n_init = 10) #{'k-means++', 'random' or an ndarray}\n",
    "clf_3 = KMeans(n_clusters = 3, init = 'k-means++', n_init = 10)\n",
    "clf_4 = KMeans(n_clusters = 4, init = 'k-means++', n_init = 10)\n",
    "clf_5 = KMeans(n_clusters = 5, init = 'k-means++', n_init = 10)\n",
    "\n",
    "#GMM\n",
    "#clf_2 = GMM(n_components = 2, n_init = 10) \n",
    "#clf_3 = GMM(n_components = 3, n_init = 10)\n",
    "#clf_4 = GMM(n_components = 4, n_init = 10)\n",
    "#clf_5 = GMM(n_components = 5, n_init = 10)\n",
    "\n",
    "# http://scikit-learn.org/stable/modules/generated/sklearn.cluster.KMeans.html#sklearn.cluster.KMeans\n",
    "# http://scikit-learn.org/stable/modules/generated/sklearn.mixture.GMM.html#sklearn.mixture.GMM\n",
    "\n",
    "clusters_2 = clf_2.fit(reduced_data)\n",
    "clusters_3 = clf_3.fit(reduced_data)\n",
    "clusters_4 = clf_4.fit(reduced_data)\n",
    "clusters_5 = clf_5.fit(reduced_data)\n",
    "\n",
    "\n",
    "print clusters_2\n",
    "print clusters_3\n",
    "print clusters_4\n",
    "print clusters_5"
   ]
  },
  {
   "cell_type": "code",
   "execution_count": 8,
   "metadata": {
    "collapsed": false,
    "scrolled": true
   },
   "outputs": [],
   "source": [
    "# Plot the decision boundary by building a mesh grid to populate a graph.\n",
    "x_min, x_max = reduced_data[:, 0].min() - 1, reduced_data[:, 0].max() + 1\n",
    "y_min, y_max = reduced_data[:, 1].min() - 1, reduced_data[:, 1].max() + 1\n",
    "hx = (x_max-x_min)/1000.\n",
    "hy = (y_max-y_min)/1000.\n",
    "xx, yy = np.meshgrid(np.arange(x_min, x_max, hx), np.arange(y_min, y_max, hy))\n",
    "\n",
    "# Obtain labels for each point in mesh. Use last trained model.\n",
    "Z_2 = clusters_2.predict(np.c_[xx.ravel(), yy.ravel()])\n",
    "Z_3 = clusters_3.predict(np.c_[xx.ravel(), yy.ravel()])\n",
    "Z_4 = clusters_4.predict(np.c_[xx.ravel(), yy.ravel()])\n",
    "Z_5 = clusters_5.predict(np.c_[xx.ravel(), yy.ravel()])"
   ]
  },
  {
   "cell_type": "code",
   "execution_count": 9,
   "metadata": {
    "collapsed": false
   },
   "outputs": [
    {
     "name": "stdout",
     "output_type": "stream",
     "text": [
      "[[  4175.31101293   -211.15109304]\n",
      " [-24088.33276689   1218.17938291]]\n",
      "[[-23978.86566553  -4445.56611772]\n",
      " [  1341.31124554  25261.39189714]\n",
      " [  4165.1217824   -3105.15811456]]\n",
      "[[  3542.08605212  -4936.7212132 ]\n",
      " [  5710.98964991  12661.45687292]\n",
      " [-24220.71188261  -4364.45560022]\n",
      " [-14537.71774395  61715.67085248]]\n",
      "[[  5607.91709853  14199.18040025]\n",
      " [ -9052.39957144  -4808.55909102]\n",
      " [-14537.71774395  61715.67085248]\n",
      " [  6399.7117556   -4169.29690862]\n",
      " [-37704.64157991  -5488.35405895]]\n"
     ]
    }
   ],
   "source": [
    "# TODO: Find the centroids for KMeans or the cluster means for GMM \n",
    "\n",
    "# for KMeans\n",
    "centroids_2 = clf_2.cluster_centers_\n",
    "centroids_3 = clf_3.cluster_centers_\n",
    "centroids_4 = clf_4.cluster_centers_\n",
    "centroids_5 = clf_5.cluster_centers_\n",
    "\n",
    "# for GMM\n",
    "#centroids_2 = clf_2.means_\n",
    "#centroids_3 = clf_3.means_\n",
    "#centroids_4 = clf_4.means_\n",
    "#centroids_5 = clf_5.means_\n",
    "\n",
    "print centroids_2\n",
    "print centroids_3\n",
    "print centroids_4\n",
    "print centroids_5"
   ]
  },
  {
   "cell_type": "code",
   "execution_count": 10,
   "metadata": {
    "collapsed": false
   },
   "outputs": [
    {
     "name": "stderr",
     "output_type": "stream",
     "text": [
      "/Users/philipp/anaconda/lib/python2.7/site-packages/matplotlib/collections.py:590: FutureWarning: elementwise comparison failed; returning scalar instead, but in the future will perform elementwise comparison\n",
      "  if self._edgecolors == str('face'):\n"
     ]
    },
    {
     "data": {
      "image/png": "[encoded data removed]",
      "text/plain": [
       "<matplotlib.figure.Figure at 0x10cf546d0>"
      ]
     },
     "metadata": {},
     "output_type": "display_data"
    },
    {
     "data": {
      "image/png": "[encoded data removed]",
      "text/plain": [
       "<matplotlib.figure.Figure at 0x10cf54b10>"
      ]
     },
     "metadata": {},
     "output_type": "display_data"
    },
    {
     "data": {
      "image/png": "[encoded data removed]",
      "text/plain": [
       "<matplotlib.figure.Figure at 0x115415b90>"
      ]
     },
     "metadata": {},
     "output_type": "display_data"
    },
    {
     "data": {
      "image/png": "[encoded data removed]",
      "text/plain": [
       "<matplotlib.figure.Figure at 0x115c98710>"
      ]
     },
     "metadata": {},
     "output_type": "display_data"
    }
   ],
   "source": [
    "# Put the result into a color plot\n",
    "Z = Z_2.reshape(xx.shape)\n",
    "plt.figure(1)\n",
    "plt.clf()\n",
    "plt.imshow(Z, interpolation='nearest',\n",
    "            extent=(xx.min(), xx.max(), yy.min(), yy.max()),\n",
    "            cmap=plt.cm.Paired,\n",
    "            aspect='auto', origin='lower')\n",
    "\n",
    "plt.plot(reduced_data[:, 0], reduced_data[:, 1], 'k.', markersize=2)\n",
    "plt.scatter(centroids_2[:, 0], centroids_2[:, 1],\n",
    "            marker='x', s=169, linewidths=3,\n",
    "             color='w', zorder=10)\n",
    "plt.title('Clustering on the wholesale grocery dataset (PCA-reduced data)\\n'\n",
    "        '2 Centroids are marked with white cross')\n",
    "plt.xlim(x_min, x_max)\n",
    "plt.ylim(y_min, y_max)\n",
    "\n",
    "plt.xticks(())\n",
    "plt.yticks(())\n",
    "plt.show()\n",
    "\n",
    "#---\n",
    "Z = Z_3.reshape(xx.shape)\n",
    "plt.figure(2)\n",
    "plt.clf()\n",
    "plt.imshow(Z, interpolation='nearest',\n",
    "            extent=(xx.min(), xx.max(), yy.min(), yy.max()),\n",
    "            cmap=plt.cm.Paired,\n",
    "            aspect='auto', origin='lower')\n",
    "\n",
    "plt.plot(reduced_data[:, 0], reduced_data[:, 1], 'k.', markersize=2)\n",
    "plt.scatter(centroids_3[:, 0], centroids_3[:, 1],\n",
    "            marker='x', s=169, linewidths=3,\n",
    "             color='w', zorder=10)\n",
    "plt.title('Clustering on the wholesale grocery dataset (PCA-reduced data)\\n'\n",
    "        '3 Centroids are marked with white cross')\n",
    "plt.xlim(x_min, x_max)\n",
    "plt.ylim(y_min, y_max)\n",
    "\n",
    "plt.xticks(())\n",
    "plt.yticks(())\n",
    "plt.show()\n",
    "\n",
    "#---\n",
    "Z = Z_4.reshape(xx.shape)\n",
    "plt.figure(3)\n",
    "plt.clf()\n",
    "plt.imshow(Z, interpolation='nearest',\n",
    "            extent=(xx.min(), xx.max(), yy.min(), yy.max()),\n",
    "            cmap=plt.cm.Paired,\n",
    "            aspect='auto', origin='lower')\n",
    "\n",
    "plt.plot(reduced_data[:, 0], reduced_data[:, 1], 'k.', markersize=2)\n",
    "plt.scatter(centroids_4[:, 0], centroids_4[:, 1],\n",
    "            marker='x', s=169, linewidths=3,\n",
    "             color='w', zorder=10)\n",
    "plt.title('Clustering on the wholesale grocery dataset (PCA-reduced data)\\n'\n",
    "        '4 Centroids are marked with white cross')\n",
    "plt.xlim(x_min, x_max)\n",
    "plt.ylim(y_min, y_max)\n",
    "\n",
    "plt.xticks(())\n",
    "plt.yticks(())\n",
    "plt.show()\n",
    "\n",
    "#---\n",
    "Z = Z_5.reshape(xx.shape)\n",
    "plt.figure(4)\n",
    "plt.clf()\n",
    "plt.imshow(Z, interpolation='nearest',\n",
    "            extent=(xx.min(), xx.max(), yy.min(), yy.max()),\n",
    "            cmap=plt.cm.Paired,\n",
    "            aspect='auto', origin='lower')\n",
    "\n",
    "plt.plot(reduced_data[:, 0], reduced_data[:, 1], 'k.', markersize=2)\n",
    "plt.scatter(centroids_5[:, 0], centroids_5[:, 1],\n",
    "            marker='x', s=169, linewidths=3,\n",
    "             color='w', zorder=10)\n",
    "plt.title('Clustering on the wholesale grocery dataset (PCA-reduced data)\\n'\n",
    "        '5 Centroids are marked with white cross')\n",
    "plt.xlim(x_min, x_max)\n",
    "plt.ylim(y_min, y_max)\n",
    "\n",
    "plt.xticks(())\n",
    "plt.yticks(())\n",
    "plt.show()"
   ]
  },
  {
   "cell_type": "markdown",
   "metadata": {},
   "source": [
    "**7)** What are the central objects in each cluster? Describe them as customers."
   ]
  },
  {
   "cell_type": "markdown",
   "metadata": {
    "collapsed": true
   },
   "source": [
    "Answer:  \n",
    "\n",
    "*Having only two components to describe the clusters and considering the distribution of the customers in the plot, it makes not much sense to go beyond four clusters. The main difference between the four cluster plot and the three cluster plot is that the two (not very distinct) upper clusters are \"merged\". For a two cluster analysis, one component would be sufficient.  \n",
    "Given that we saw that the first two components beeing relevant to the analysis. And the fact that a fourth cluster does not add significance to the plot. Three clusters seem to be the best choice for this data set.*\n",
    "\n",
    "**lower-right cluster**: Customers that order perishable and fast moving consumer goods. Like supermarkets of different sizes.  \n",
    "**lower-left cluster**: Customers that mostly order perishable goods. Like fruit and vegetable outlets or central market.  \n",
    "**upper cluster**: Customers that mostly order fast moving consumer goods. Like small corner stores and kiosks."
   ]
  },
  {
   "cell_type": "code",
   "execution_count": 11,
   "metadata": {
    "collapsed": false
   },
   "outputs": [
    {
     "name": "stdout",
     "output_type": "stream",
     "text": [
      "KMeans(copy_x=True, init='k-means++', max_iter=300, n_clusters=3, n_init=10,\n",
      "    n_jobs=1, precompute_distances='auto', random_state=None, tol=0.0001,\n",
      "    verbose=0)\n",
      "[[  1339.44615464  25546.49074629]\n",
      " [  4114.95375632  -3081.03219608]\n",
      " [-24220.71188261  -4364.45560022]]\n"
     ]
    },
    {
     "name": "stderr",
     "output_type": "stream",
     "text": [
      "/Users/philipp/anaconda/lib/python2.7/site-packages/matplotlib/image.py:359: UserWarning: Images are not supported on non-linear axes.\n",
      "  warnings.warn(\"Images are not supported on non-linear axes.\")\n"
     ]
    },
    {
     "data": {
      "image/png": "[encoded data removed]",
      "text/plain": [
       "<matplotlib.figure.Figure at 0x1085b8810>"
      ]
     },
     "metadata": {},
     "output_type": "display_data"
    }
   ],
   "source": [
    "# Log transform\n",
    "\n",
    "# from sklearn.preprocessing import FunctionTransformer\n",
    "# FunctionTransformer throughs an ImportError: cannot import name FunctionTransformer\n",
    "\n",
    "# Transformer\n",
    "#transformer = sklearn.preprocessing.FunctionTransformer(np.log1p)\n",
    "data_33 = data\n",
    "#transformer.transform(data_33)\n",
    "\n",
    "# PCA\n",
    "pca3 = PCA(n_components = 2)\n",
    "reduced_data_33 = pca3.fit(data_33).transform(data_33)\n",
    "\n",
    "# Clusters\n",
    "clf_33 = KMeans(n_clusters = 3, init = 'k-means++', n_init = 10)\n",
    "clusters_33 = clf_33.fit(reduced_data)\n",
    "print clusters_33\n",
    "\n",
    "# Grid\n",
    "x_min, x_max = reduced_data_33[:, 0].min() - 1, reduced_data_33[:, 0].max() + 1\n",
    "y_min, y_max = reduced_data_33[:, 1].min() - 1, reduced_data_33[:, 1].max() + 1\n",
    "hx = (x_max-x_min)/1000.\n",
    "hy = (y_max-y_min)/1000.\n",
    "xx, yy = np.meshgrid(np.arange(x_min, x_max, hx), np.arange(y_min, y_max, hy))\n",
    "\n",
    "#\n",
    "Z_33 = clusters_33.predict(np.c_[xx.ravel(), yy.ravel()])\n",
    "\n",
    "#\n",
    "centroids_33 = clf_33.cluster_centers_\n",
    "print centroids_33\n",
    "\n",
    "#\n",
    "\n",
    "Z = Z_33.reshape(xx.shape)\n",
    "plt.figure(2)\n",
    "plt.clf()\n",
    "plt.imshow(Z, interpolation='nearest',\n",
    "            extent=(xx.min(), xx.max(), yy.min(), yy.max()),\n",
    "            cmap=plt.cm.Paired,\n",
    "            aspect='auto', origin='lower')\n",
    "\n",
    "plt.plot(reduced_data[:, 0], reduced_data[:, 1], 'k.', markersize=2)\n",
    "plt.scatter(centroids_3[:, 0], centroids_3[:, 1],\n",
    "            marker='x', s=169, linewidths=3,\n",
    "             color='w', zorder=10)\n",
    "plt.title('Clustering on the wholesale grocery dataset (PCA-reduced data)\\n'\n",
    "          'using log-scale\\n'\n",
    "          '3 Centroids are marked with white cross')\n",
    "plt.xlim(x_min, x_max)\n",
    "plt.ylim(y_min, y_max)\n",
    "plt.xscale('log') #sub2 addition\n",
    "plt.yscale('log') #sub2 addition\n",
    "plt.xticks(())\n",
    "plt.yticks(())\n",
    "plt.show()"
   ]
  },
  {
   "cell_type": "code",
   "execution_count": 12,
   "metadata": {
    "collapsed": false
   },
   "outputs": [],
   "source": [
    "#Using PC 2 and 3 for more insight\n",
    "pca3 = PCA(n_components = 3)\n",
    "reduced_data_22 = pca3.fit(data).transform(data)\n",
    "reduced_data_22 = reduced_data_22[:,1:3]"
   ]
  },
  {
   "cell_type": "code",
   "execution_count": 13,
   "metadata": {
    "collapsed": false
   },
   "outputs": [
    {
     "name": "stdout",
     "output_type": "stream",
     "text": [
      "KMeans(copy_x=True, init='k-means++', max_iter=300, n_clusters=3, n_init=10,\n",
      "    n_jobs=1, precompute_distances='auto', random_state=None, tol=0.0001,\n",
      "    verbose=0)\n"
     ]
    }
   ],
   "source": [
    "# The visualizer below assumes your clustering object is named 'clusters'\n",
    "\n",
    "clf_22 = KMeans(n_clusters = 3, init = 'k-means++', n_init = 10) #{'k-means++', 'random' or an ndarray}\n",
    "\n",
    "# http://scikit-learn.org/stable/modules/generated/sklearn.cluster.KMeans.html#sklearn.cluster.KMeans\n",
    "# http://scikit-learn.org/stable/modules/generated/sklearn.mixture.GMM.html#sklearn.mixture.GMM\n",
    "\n",
    "clusters_22 = clf_22.fit(reduced_data_22)\n",
    "\n",
    "print clusters_22"
   ]
  },
  {
   "cell_type": "code",
   "execution_count": 14,
   "metadata": {
    "collapsed": false
   },
   "outputs": [],
   "source": [
    "# Plot the decision boundary by building a mesh grid to populate a graph.\n",
    "x_min_2, x_max_2 = reduced_data_22[:, 0].min() - 1, reduced_data_22[:, 0].max() + 1\n",
    "y_min_2, y_max_2 = reduced_data_22[:, 1].min() - 1, reduced_data_22[:, 1].max() + 1\n",
    "hx_2 = (x_max_2-x_min_2)/1000.\n",
    "hy_2 = (y_max_2-y_min_2)/1000.\n",
    "xx_2, yy_2 = np.meshgrid(np.arange(x_min_2, x_max_2, hx_2), np.arange(y_min_2, y_max_2, hy_2))\n",
    "\n",
    "# Obtain labels for each point in mesh. Use last trained model.\n",
    "Z_22 = clusters_22.predict(np.c_[xx_2.ravel(), yy_2.ravel()])"
   ]
  },
  {
   "cell_type": "code",
   "execution_count": 15,
   "metadata": {
    "collapsed": false
   },
   "outputs": [],
   "source": [
    "# for KMeans\n",
    "centroids_22 = clf_22.cluster_centers_"
   ]
  },
  {
   "cell_type": "code",
   "execution_count": 16,
   "metadata": {
    "collapsed": false
   },
   "outputs": [
    {
     "data": {
      "image/png": "[encoded data removed]",
      "text/plain": [
       "<matplotlib.figure.Figure at 0x115d78110>"
      ]
     },
     "metadata": {},
     "output_type": "display_data"
    }
   ],
   "source": [
    "# Put the result into a color plot\n",
    "Z_22 = Z_22.reshape(xx.shape)\n",
    "plt.figure(1)\n",
    "plt.clf()\n",
    "plt.imshow(Z_22, interpolation='nearest',\n",
    "           extent=(xx_2.min(), xx_2.max(), yy_2.min(), yy_2.max()),\n",
    "           cmap=plt.cm.Paired,\n",
    "           aspect='auto', origin='lower')\n",
    "\n",
    "plt.plot(reduced_data_22[:, 0], reduced_data_22[:, 1], 'k.', markersize=2)\n",
    "plt.scatter(centroids_22[:, 0], centroids_22[:, 1],\n",
    "            marker='x', s=169, linewidths=3,\n",
    "            color='w', zorder=10)\n",
    "plt.title('Clustering on the wholesale grocery dataset (PCA-reduced data)\\n'\n",
    "          'using PC 2 and 3\\n'\n",
    "          'Centroids are marked with white cross')\n",
    "plt.xlim(x_min_2, x_max_2)\n",
    "plt.ylim(y_min_2, y_max_2)\n",
    "plt.xticks(())\n",
    "plt.yticks(())\n",
    "plt.show()"
   ]
  },
  {
   "cell_type": "markdown",
   "metadata": {},
   "source": [
    "### Conclusions\n",
    "\n",
    "** 8)** Which of these techniques did you feel gave you the most insight into the data?"
   ]
  },
  {
   "cell_type": "markdown",
   "metadata": {
    "collapsed": true
   },
   "source": [
    "Answer:  \n",
    "\n",
    "On a very basic level, the 2D plotting of the PCA reduced samples gave me the most inside overall.   \n",
    "I gained further inside by varying the number of centroids/clusters.  \n",
    "\n",
    "The plot of PC two and three looks very symmetric (except for some outliers).\n",
    "It does not add much information concerning the clustering.\n",
    "It is the same clusters dragged out into another dimension. No interesting splits to see. All centroids almost on one line.\n",
    "Besides, it is hard to find a description for the third dimension. It is not clear which information is contained in there.\n",
    "\n",
    "*Neither a logarithmic scale nor the third component can add more inside into the clustering.*"
   ]
  },
  {
   "cell_type": "markdown",
   "metadata": {
    "collapsed": true
   },
   "source": [
    "**9)** How would you use that technique to help the company design new experiments?"
   ]
  },
  {
   "cell_type": "markdown",
   "metadata": {},
   "source": [
    "Answer:  \n",
    "\n",
    "*Some techniques to design new experiments after the PCA clustering are:*  \n",
    "\n",
    "*- First of all, you should make a **validity check** against third party data, if the results of your PCA are reasonable.*  \n",
    "\n",
    "*- It might make sense to accumulate more data about the customers in each cluster by running a **survey, focus groups or a UER** (user experience research) to understand their needs beyond the PCs.*  \n",
    "\n",
    "*- Use this data to do **A/A testing** inside each cluster to gather information about the variability inside the clusters. This helps to determine a robust baseline for the A/B tests.*  \n",
    "\n",
    "*- **Intra-cluster A/B testing** (test and control group from the same cluster) for testing new cluster specific products and services. Eg. disposal services for customers from the perishable cluster or VMI (vendor managed inventory) for the FMCG (fast moving consumer goods) cluster customers.*   \n",
    "\n",
    "*- **Inter-cluster A/B testing** (test and control group from different clusters) for testing new general (unspecific) products and services. Eg. offering replenishment by urban freight distribution providers.*  \n",
    "\n",
    "*- Make sure that your test and control group for these experiments are not secured by checking the included customers for features like company size, order size, and location.*\n"
   ]
  },
  {
   "cell_type": "markdown",
   "metadata": {},
   "source": [
    "**10)** How would you use that data to help you predict future customer needs?"
   ]
  },
  {
   "cell_type": "markdown",
   "metadata": {},
   "source": [
    "Answer:   \n",
    "\n",
    "You can make better predictions if you put a new customer into the designated cluster first and make your predictions from there. Instead of predicting from the whole set of customers i.e. the average customer.  \n",
    "This information can be used for cross- and upselling offers as well as bulk discounts, depending on the cluster.\n",
    "Sells people can use this data to see if a certain customer has weak sells in a certain category, compared with the other \"reference customers\" in the cluster. They might be able to identify opportunities for new offers to these customers.  \n",
    "Another interesting experiment would be to track the developments over time. For single customers and the whole set. Maybe there is a customer-life-cycle, where they move through different clusters over time. It might be possible to make and algorithm that could learn this pattern and make predictions, how a new customer might evolve.  "
   ]
  }
 ],
 "metadata": {
  "kernelspec": {
   "display_name": "Python 2",
   "language": "python",
   "name": "python2"
  },
  "language_info": {
   "codemirror_mode": {
    "name": "ipython",
    "version": 2
   },
   "file_extension": ".py",
   "mimetype": "text/x-python",
   "name": "python",
   "nbconvert_exporter": "python",
   "pygments_lexer": "ipython2",
   "version": "2.7.10"
  }
 },
 "nbformat": 4,
 "nbformat_minor": 0
}
