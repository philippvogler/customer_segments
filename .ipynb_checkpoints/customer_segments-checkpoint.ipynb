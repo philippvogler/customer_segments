{
 "cells": [
  {
   "cell_type": "markdown",
   "metadata": {},
   "source": [
    "# Creating Customer Segments"
   ]
  },
  {
   "cell_type": "markdown",
   "metadata": {},
   "source": [
    "In this project you, will analyze a dataset containing annual spending amounts for internal structure, to understand the variation in the different types of customers that a wholesale distributor interacts with.\n",
    "\n",
    "Instructions:\n",
    "\n",
    "- Run each code block below by pressing **Shift+Enter**, making sure to implement any steps marked with a TODO.\n",
    "- Answer each question in the space provided by editing the blocks labeled \"Answer:\".\n",
    "- When you are done, submit the completed notebook (.ipynb) with all code blocks executed, as well as a .pdf version (File > Download as)."
   ]
  },
  {
   "cell_type": "code",
   "execution_count": 2,
   "metadata": {
    "collapsed": false
   },
   "outputs": [
    {
     "name": "stdout",
     "output_type": "stream",
     "text": [
      "Dataset has 440 rows, 6 columns\n",
      "   Fresh  Milk  Grocery  Frozen  Detergents_Paper  Delicatessen\n",
      "0  12669  9656     7561     214              2674          1338\n",
      "1   7057  9810     9568    1762              3293          1776\n",
      "2   6353  8808     7684    2405              3516          7844\n",
      "3  13265  1196     4221    6404               507          1788\n",
      "4  22615  5410     7198    3915              1777          5185\n"
     ]
    }
   ],
   "source": [
    "# Import libraries: NumPy, pandas, matplotlib\n",
    "import numpy as np\n",
    "import pandas as pd\n",
    "import matplotlib.pyplot as plt\n",
    "\n",
    "# Tell iPython to include plots inline in the notebook\n",
    "%matplotlib inline\n",
    "\n",
    "# Read dataset\n",
    "data = pd.read_csv(\"wholesale-customers.csv\")\n",
    "print \"Dataset has {} rows, {} columns\".format(*data.shape)\n",
    "print data.head()  # print the first 5 rows"
   ]
  },
  {
   "cell_type": "markdown",
   "metadata": {},
   "source": [
    "## Feature Transformation"
   ]
  },
  {
   "cell_type": "markdown",
   "metadata": {},
   "source": [
    "**1)** In this section you will be using PCA and ICA to start to understand the structure of the data. Before doing any computations, what do you think will show up in your computations? List one or two ideas for what might show up as the first PCA dimensions, or what type of vectors will show up as ICA dimensions."
   ]
  },
  {
   "cell_type": "markdown",
   "metadata": {},
   "source": [
    "Answer:\n",
    ">**PCA**  \n",
    "tries to find correlations by looking for the maximum variance. So the first dimensions for the PCs are, what has the largest range of values in the data set.  \n",
    "Possible first dimensions:\n",
    "- the amount in which a certain category is replenished\n",
    "- the size of the customers business\n",
    "\n",
    ">**ICA**  \n",
    "tries to transform the feature space towards maximal independence. So the first dimension will contain the most common information in the data set. And the following dimensions will consist of the least common information. \n",
    "Possible type of vectors dimensions: \n",
    "- the average replenishment profile of a category\n",
    "- different replenishment profiles\n",
    "\n",
    "source: https://www.udacity.com/course/viewer#!/c-ud727-nd/l-5453051650/m-661438547"
   ]
  },
  {
   "cell_type": "markdown",
   "metadata": {},
   "source": [
    "### PCA"
   ]
  },
  {
   "cell_type": "code",
   "execution_count": 3,
   "metadata": {
    "collapsed": false
   },
   "outputs": [
    {
     "name": "stdout",
     "output_type": "stream",
     "text": [
      "[[-0.97653685 -0.12118407 -0.06154039 -0.15236462  0.00705417 -0.06810471]\n",
      " [-0.11061386  0.51580216  0.76460638 -0.01872345  0.36535076  0.05707921]\n",
      " [-0.17855726  0.50988675 -0.27578088  0.71420037 -0.20440987  0.28321747]\n",
      " [-0.04187648 -0.64564047  0.37546049  0.64629232  0.14938013 -0.02039579]\n",
      " [ 0.015986    0.20323566 -0.1602915   0.22018612  0.20793016 -0.91707659]\n",
      " [-0.01576316  0.03349187  0.41093894 -0.01328898 -0.87128428 -0.26541687]]\n",
      "[ 0.45961362  0.40517227  0.07003008  0.04402344  0.01502212  0.00613848]\n"
     ]
    }
   ],
   "source": [
    "# TODO: Apply PCA with the same number of dimensions as variables in the dataset\n",
    "from sklearn.decomposition import PCA\n",
    "\n",
    "pca = PCA(n_components = data.shape[1])\n",
    "pca.fit(data)\n",
    "#http://scikit-learn.org/stable/modules/generated/sklearn.decomposition.PCA.html#sklearn.decomposition.PCA\n",
    "\n",
    "# Print the components and the amount of variance in the data contained in each dimension\n",
    "print pca.components_\n",
    "print pca.explained_variance_ratio_"
   ]
  },
  {
   "cell_type": "markdown",
   "metadata": {},
   "source": [
    "**2)** How quickly does the variance drop off by dimension? If you were to use PCA on this dataset, how many dimensions would you choose for your analysis? Why?"
   ]
  },
  {
   "cell_type": "code",
   "execution_count": 4,
   "metadata": {
    "collapsed": false
   },
   "outputs": [
    {
     "data": {
      "image/png": "[encoded data removed]",
      "text/plain": [
       "<matplotlib.figure.Figure at 0x108d2f5d0>"
      ]
     },
     "metadata": {},
     "output_type": "display_data"
    }
   ],
   "source": [
    "# PCs variance plot\n",
    "\n",
    "cs = np.cumsum(pca.explained_variance_ratio_)\n",
    "#https://github.com/numpy/numpy/blob/v1.10.0/numpy/core/fromnumeric.py#L2038-L2106\n",
    "#http://docs.scipy.org/doc/numpy-1.10.0/reference/generated/numpy.cumsum.html\n",
    "\n",
    "# Number array for PCs\n",
    "num_PCs = np.arange(data.shape[1])+1\n",
    "#http://docs.scipy.org/doc/numpy-1.10.1/user/basics.creation.html\n",
    "\n",
    "plt.plot(num_PCs, cs)\n",
    "plt.plot(num_PCs, pca.explained_variance_ratio_)\n",
    "#http://matplotlib.org/users/pyplot_tutorial.html\n",
    "\n",
    "plt.axis([1, data.shape[1], 0, 1.1])\n",
    "plt.xlabel('Number of PCs')\n",
    "plt.ylabel('explained variance')\n",
    "plt.legend(['cumulativ', 'single'], loc='center right')\n",
    "plt.show()"
   ]
  },
  {
   "cell_type": "markdown",
   "metadata": {
    "collapsed": true
   },
   "source": [
    "Answer: \n",
    ">The first two PCs make for more than 80% of explained variance. The third PC adds 7% to explained variance. All additional PCs add less than 5% to explained variance. \n",
    "Depending on how much I want/need to reduce my data set, I would pick the first 2 to 3 PCs. In this case, with a relatively small dataset, it is reasonable to use 3 PCs. To retain as much information as possible. With larger datasets, I probably go for only 2 PCs, because it is computational cheaper/faster."
   ]
  },
  {
   "cell_type": "markdown",
   "metadata": {},
   "source": [
    "**3)** What do the dimensions seem to represent? How can you use this information?"
   ]
  },
  {
   "cell_type": "markdown",
   "metadata": {
    "collapsed": true
   },
   "source": [
    "Answer: \n",
    "> These dimensions represent the directions in R<sup>6</sup> that show the most variance i.e. the largest range of values.   \n",
    "Probably the **first dimension** is the **amount of money** that is spent on a single category by a single customer. The **second dimension** is most likely the **size of the customer** companies."
   ]
  },
  {
   "cell_type": "markdown",
   "metadata": {},
   "source": [
    "### ICA"
   ]
  },
  {
   "cell_type": "code",
   "execution_count": 5,
   "metadata": {
    "collapsed": false
   },
   "outputs": [
    {
     "name": "stdout",
     "output_type": "stream",
     "text": [
      "[[ -2.76841799e-07   2.35795245e-06   1.17582293e-05  -1.47718655e-06\n",
      "   -2.81299493e-05  -5.66567004e-06]\n",
      " [ -3.97807803e-06   8.67867843e-07   7.43120899e-07   6.69027555e-07\n",
      "   -2.30440532e-06   9.87671016e-07]\n",
      " [ -1.48542587e-07  -9.86452977e-06   5.82345401e-06   3.67186321e-07\n",
      "   -3.24936553e-06   6.07124224e-06]\n",
      " [ -8.64058051e-07  -1.44294840e-07   7.67223139e-07   1.11470707e-05\n",
      "   -5.36402367e-07  -5.94776943e-06]\n",
      " [ -3.87974122e-07  -2.14311952e-07  -5.87582806e-07  -5.22452950e-07\n",
      "    4.88835685e-07   1.80838115e-05]\n",
      " [ -2.06556514e-07   1.71090348e-06  -6.94104852e-06  -3.39344529e-07\n",
      "    2.09426429e-06   1.78287198e-06]]\n"
     ]
    },
    {
     "name": "stderr",
     "output_type": "stream",
     "text": [
      "/Users/philipp/anaconda/lib/python2.7/site-packages/sklearn/utils/validation.py:498: UserWarning: StandardScaler assumes floating point values as input, got int64\n",
      "  \"got %s\" % (estimator, X.dtype))\n"
     ]
    }
   ],
   "source": [
    "# TODO: Fit an ICA model to the data\n",
    "# Note: Adjust the data to have center at the origin first!\n",
    "from sklearn.decomposition import FastICA\n",
    "from sklearn import preprocessing\n",
    "\n",
    "# feature centering\n",
    "scaler = preprocessing.StandardScaler(copy=True, with_mean=True, with_std=False).fit(data.astype(float))\n",
    "data_centered = scaler.transform(data)\n",
    "# http://scikit-learn.org/stable/modules/preprocessing.htmltable/auto_examples/decomposition/plot_faces_decomposition.html#example-decomposition-plot-faces-decomposition-py\n",
    "\n",
    "ica = FastICA()\n",
    "ica.fit(data_centered).transform(data_centered)\n",
    "# http://scikit-learn.org/stable/modules/generated/sklearn.decomposition.FastICA.html#sklearn.decomposition.FastICA\n",
    "\n",
    "# Print the independent components\n",
    "print ica.components_"
   ]
  },
  {
   "cell_type": "markdown",
   "metadata": {},
   "source": [
    "**4)** For each vector in the ICA decomposition, write a sentence or two explaining what sort of object or property it corresponds to. What could these components be used for?"
   ]
  },
  {
   "cell_type": "markdown",
   "metadata": {
    "collapsed": true
   },
   "source": [
    "Answer: \n",
    "> The first vector is the average (standardized) replenishment profile over all categories. The second to sixth vector are (standardized) building blocks that can be linearly combined with the first vector to creat replenishment profiles for each of the six categories.\n"
   ]
  },
  {
   "cell_type": "markdown",
   "metadata": {},
   "source": [
    "## Clustering\n",
    "\n",
    "In this section you will choose either K Means clustering or Gaussian Mixed Models clustering, which implements expectation-maximization. Then you will sample elements from the clusters to understand their significance."
   ]
  },
  {
   "cell_type": "markdown",
   "metadata": {},
   "source": [
    "### Choose a Cluster Type\n",
    "\n",
    "**5)** What are the advantages of using K Means clustering or Gaussian Mixture Models?"
   ]
  },
  {
   "cell_type": "markdown",
   "metadata": {},
   "source": [
    "Answer: \n",
    "> #### K-Means advantages  \n",
    "- \"scales well to [a] large number of samples.\"\n",
    "- \"General-purpose\" clustering algorithm\n",
    "- \"has been used (successfully) across a large range of application areas.\"\n",
    "- \"K-Means can be seen as a special case of Gaussian mixture model with equal covariance per component.\"\n",
    "\n",
    "> #### Gaussian Mixture Models advantages  \n",
    "- \"incorporate information about the covariance structure of the data.\"\n",
    "- \"can also draw confidence ellipsoids for multivariate models.\"\n",
    "- \"compute the Bayesian Information Criterion to assess the number of clusters in the data.\"\n",
    "- \"it is the fastest algorithm for learning mixture models.\"\n",
    "- \"as this algorithm maximizes only the likelihood, it will not be bias the means towards zero, or bias the cluster sizes to have specific structures that might or might not apply.\"\n",
    "\n",
    "source: http://scikit-learn.org/stable/modules/mixture.html#mixture, http://scikit-learn.org/stable/modules/clustering.html#k-means, https://www.udacity.com/course/viewer#!/c-ud727-nd/l-5455061279/m-638188663"
   ]
  },
  {
   "cell_type": "markdown",
   "metadata": {},
   "source": [
    "**6)** Below is some starter code to help you visualize some cluster data. The visualization is based on [this demo](http://scikit-learn.org/stable/auto_examples/cluster/plot_kmeans_digits.html) from the sklearn documentation."
   ]
  },
  {
   "cell_type": "code",
   "execution_count": 6,
   "metadata": {
    "collapsed": true
   },
   "outputs": [],
   "source": [
    "# Import clustering modules\n",
    "from sklearn.cluster import KMeans\n",
    "from sklearn.mixture import GMM"
   ]
  },
  {
   "cell_type": "code",
   "execution_count": 7,
   "metadata": {
    "collapsed": false
   },
   "outputs": [
    {
     "name": "stdout",
     "output_type": "stream",
     "text": [
      "[[  -650.02212207   1585.51909007]\n",
      " [  4426.80497937   4042.45150884]\n",
      " [  4841.9987068    2578.762176  ]\n",
      " [  -990.34643689  -6279.80599663]\n",
      " [-10657.99873116  -2159.72581518]\n",
      " [  2765.96159271   -959.87072713]\n",
      " [   715.55089221  -2013.00226567]\n",
      " [  4474.58366697   1429.49697204]\n",
      " [  6712.09539718  -2205.90915598]\n",
      " [  4823.63435407  13480.55920489]]\n"
     ]
    }
   ],
   "source": [
    "# TODO: First we reduce the data to two dimensions using PCA to capture variation\n",
    "\n",
    "pca2 = PCA(n_components = 2)\n",
    "reduced_data = pca2.fit(data).transform(data)\n",
    "# http://scikit-learn.org/stable/auto_examples/decomposition/plot_pca_vs_lda.html#example-decomposition-plot-pca-vs-lda-py\n",
    "\n",
    "print reduced_data[:10]  # print upto 10 elements"
   ]
  },
  {
   "cell_type": "code",
   "execution_count": 8,
   "metadata": {
    "collapsed": false
   },
   "outputs": [
    {
     "name": "stdout",
     "output_type": "stream",
     "text": [
      "GMM(covariance_type='diag', init_params='wmc', min_covar=0.001,\n",
      "  n_components=5, n_init=10, n_iter=100, params='wmc', random_state=None,\n",
      "  thresh=None, tol=0.001)\n"
     ]
    }
   ],
   "source": [
    "# TODO: Implement your clustering algorithm here, and fit it to the reduced data for visualization\n",
    "# The visualizer below assumes your clustering object is named 'clusters'\n",
    "\n",
    "#clf = KMeans(n_clusters = 5, init = 'k-means++', n_init = 10) #{'k-means++', 'random' or an ndarray}\n",
    "clf = GMM(n_components = 5, n_init = 10)\n",
    "\n",
    "# http://scikit-learn.org/stable/modules/generated/sklearn.cluster.KMeans.html#sklearn.cluster.KMeans\n",
    "# http://scikit-learn.org/stable/modules/generated/sklearn.mixture.GMM.html#sklearn.mixture.GMM\n",
    "\n",
    "clusters = clf.fit(reduced_data)\n",
    "\n",
    "#for KMeans\n",
    "#print clf.inertia_\n",
    "\n",
    "#for GMM\n",
    "#print clf.converged_\n",
    "\n",
    "print clusters"
   ]
  },
  {
   "cell_type": "code",
   "execution_count": 9,
   "metadata": {
    "collapsed": false
   },
   "outputs": [],
   "source": [
    "# Plot the decision boundary by building a mesh grid to populate a graph.\n",
    "x_min, x_max = reduced_data[:, 0].min() - 1, reduced_data[:, 0].max() + 1\n",
    "y_min, y_max = reduced_data[:, 1].min() - 1, reduced_data[:, 1].max() + 1\n",
    "hx = (x_max-x_min)/1000.\n",
    "hy = (y_max-y_min)/1000.\n",
    "xx, yy = np.meshgrid(np.arange(x_min, x_max, hx), np.arange(y_min, y_max, hy))\n",
    "\n",
    "# Obtain labels for each point in mesh. Use last trained model.\n",
    "Z = clusters.predict(np.c_[xx.ravel(), yy.ravel()])"
   ]
  },
  {
   "cell_type": "code",
   "execution_count": 10,
   "metadata": {
    "collapsed": false
   },
   "outputs": [
    {
     "name": "stdout",
     "output_type": "stream",
     "text": [
      "[[  6696.36676866  -6467.64552512]\n",
      " [ -4647.84385127  -5938.71387776]\n",
      " [ -9453.97791748  32203.92662496]\n",
      " [-21594.97891001  -3437.82018436]\n",
      " [  7189.91286381   6031.87459686]]\n"
     ]
    }
   ],
   "source": [
    "# TODO: Find the centroids for KMeans or the cluster means for GMM \n",
    "\n",
    "# for KMeans\n",
    "#centroids = clf.cluster_centers_\n",
    "\n",
    "# for GMM\n",
    "centroids = clf.means_\n",
    "\n",
    "print centroids"
   ]
  },
  {
   "cell_type": "code",
   "execution_count": 11,
   "metadata": {
    "collapsed": false
   },
   "outputs": [
    {
     "name": "stderr",
     "output_type": "stream",
     "text": [
      "/Users/philipp/anaconda/lib/python2.7/site-packages/matplotlib/collections.py:590: FutureWarning: elementwise comparison failed; returning scalar instead, but in the future will perform elementwise comparison\n",
      "  if self._edgecolors == str('face'):\n"
     ]
    },
    {
     "data": {
      "image/png": "[encoded data removed]",
      "text/plain": [
       "<matplotlib.figure.Figure at 0x109198b50>"
      ]
     },
     "metadata": {},
     "output_type": "display_data"
    }
   ],
   "source": [
    "# Put the result into a color plot\n",
    "Z = Z.reshape(xx.shape)\n",
    "plt.figure(1)\n",
    "plt.clf()\n",
    "plt.imshow(Z, interpolation='nearest',\n",
    "           extent=(xx.min(), xx.max(), yy.min(), yy.max()),\n",
    "           cmap=plt.cm.Paired,\n",
    "           aspect='auto', origin='lower')\n",
    "\n",
    "plt.plot(reduced_data[:, 0], reduced_data[:, 1], 'k.', markersize=2)\n",
    "plt.scatter(centroids[:, 0], centroids[:, 1],\n",
    "            marker='x', s=169, linewidths=3,\n",
    "            color='w', zorder=10)\n",
    "plt.title('Clustering on the wholesale grocery dataset (PCA-reduced data)\\n'\n",
    "          'Centroids are marked with white cross')\n",
    "plt.xlim(x_min, x_max)\n",
    "plt.ylim(y_min, y_max)\n",
    "plt.xticks(())\n",
    "plt.yticks(())\n",
    "plt.show()"
   ]
  },
  {
   "cell_type": "markdown",
   "metadata": {},
   "source": [
    "**7)** What are the central objects in each cluster? Describe them as customers."
   ]
  },
  {
   "cell_type": "markdown",
   "metadata": {
    "collapsed": true
   },
   "source": [
    "Answer:  \n",
    "> **lower-left cluster**: bigger and medium sized customers how are ordering small quantities  \n",
    "**low-middle cluster**: medium sized companies with a limited turnover  \n",
    "**lower-right**: a huge number of small customers how are ordering small quantities  \n",
    "**middle-right cluster**: smaller and medium sized customers how order quite heavily  \n",
    "**top cluster**: companies of all size ordering huge quantities"
   ]
  },
  {
   "cell_type": "markdown",
   "metadata": {},
   "source": [
    "### Conclusions\n",
    "\n",
    "** 8)** Which of these techniques did you feel gave you the most insight into the data?"
   ]
  },
  {
   "cell_type": "markdown",
   "metadata": {
    "collapsed": true
   },
   "source": [
    "Answer: \n",
    "> On a very basic level, the 2D plotting of the PCA reduced samples gave me the most inside overall.   \n",
    "Beyond that, it seems that GMM fits the data better with its ellipsoid cluster borders. But KMeans is doing a decent job as well. I gained further inside by varying the number of centroids/clusters regardless of the algorithm.  \n",
    "As I mentioned above, I think it would make sense to use the third PC as well. To see if any cluster \"splits\" in the third dimension:"
   ]
  },
  {
   "cell_type": "code",
   "execution_count": 12,
   "metadata": {
    "collapsed": false
   },
   "outputs": [],
   "source": [
    "pca3 = PCA(n_components = 3)\n",
    "reduced_data_2 = pca3.fit(data).transform(data)\n",
    "reduced_data_2 = reduced_data_2[:,1:3]"
   ]
  },
  {
   "cell_type": "code",
   "execution_count": 13,
   "metadata": {
    "collapsed": false
   },
   "outputs": [
    {
     "name": "stdout",
     "output_type": "stream",
     "text": [
      "13468597659.8\n",
      "KMeans(copy_x=True, init='k-means++', max_iter=300, n_clusters=5, n_init=10,\n",
      "    n_jobs=1, precompute_distances='auto', random_state=None, tol=0.0001,\n",
      "    verbose=0)\n"
     ]
    }
   ],
   "source": [
    "# The visualizer below assumes your clustering object is named 'clusters'\n",
    "\n",
    "clf = KMeans(n_clusters = 5, init = 'k-means++', n_init = 10) #{'k-means++', 'random' or an ndarray}\n",
    "#clf = GMM(n_components = 5, n_init = 10)\n",
    "\n",
    "# http://scikit-learn.org/stable/modules/generated/sklearn.cluster.KMeans.html#sklearn.cluster.KMeans\n",
    "# http://scikit-learn.org/stable/modules/generated/sklearn.mixture.GMM.html#sklearn.mixture.GMM\n",
    "\n",
    "clusters_2 = clf.fit(reduced_data_2)\n",
    "\n",
    "#for KMeans\n",
    "print clf.inertia_\n",
    "\n",
    "#for GMM\n",
    "#print clf.converged_\n",
    "\n",
    "print clusters_2"
   ]
  },
  {
   "cell_type": "code",
   "execution_count": 14,
   "metadata": {
    "collapsed": false
   },
   "outputs": [],
   "source": [
    "# Plot the decision boundary by building a mesh grid to populate a graph.\n",
    "x_min_2, x_max_2 = reduced_data_2[:, 0].min() - 1, reduced_data_2[:, 0].max() + 1\n",
    "y_min_2, y_max_2 = reduced_data_2[:, 1].min() - 1, reduced_data_2[:, 1].max() + 1\n",
    "hx_2 = (x_max_2-x_min_2)/1000.\n",
    "hy_2 = (y_max_2-y_min_2)/1000.\n",
    "xx_2, yy_2 = np.meshgrid(np.arange(x_min_2, x_max_2, hx_2), np.arange(y_min_2, y_max_2, hy_2))\n",
    "\n",
    "# Obtain labels for each point in mesh. Use last trained model.\n",
    "Z_2 = clusters_2.predict(np.c_[xx_2.ravel(), yy_2.ravel()])"
   ]
  },
  {
   "cell_type": "code",
   "execution_count": 15,
   "metadata": {
    "collapsed": false
   },
   "outputs": [],
   "source": [
    "# for KMeans\n",
    "centroids_2 = clf.cluster_centers_\n",
    "\n",
    "# for GMM\n",
    "#centroids_2 = clf.means_"
   ]
  },
  {
   "cell_type": "code",
   "execution_count": 16,
   "metadata": {
    "collapsed": false
   },
   "outputs": [
    {
     "data": {
      "image/png": "[encoded data removed]",
      "text/plain": [
       "<matplotlib.figure.Figure at 0x10dfc1a50>"
      ]
     },
     "metadata": {},
     "output_type": "display_data"
    }
   ],
   "source": [
    "# Put the result into a color plot\n",
    "Z_2 = Z_2.reshape(xx.shape)\n",
    "plt.figure(1)\n",
    "plt.clf()\n",
    "plt.imshow(Z_2, interpolation='nearest',\n",
    "           extent=(xx_2.min(), xx_2.max(), yy_2.min(), yy_2.max()),\n",
    "           cmap=plt.cm.Paired,\n",
    "           aspect='auto', origin='lower')\n",
    "\n",
    "plt.plot(reduced_data_2[:, 0], reduced_data_2[:, 1], 'k.', markersize=2)\n",
    "plt.scatter(centroids_2[:, 0], centroids_2[:, 1],\n",
    "            marker='x', s=169, linewidths=3,\n",
    "            color='w', zorder=10)\n",
    "plt.title('Clustering on the wholesale grocery dataset (PCA-reduced data)\\n'\n",
    "          'Centroids are marked with white cross')\n",
    "plt.xlim(x_min_2, x_max_2)\n",
    "plt.ylim(y_min_2, y_max_2)\n",
    "plt.xticks(())\n",
    "plt.yticks(())\n",
    "plt.show()"
   ]
  },
  {
   "cell_type": "markdown",
   "metadata": {},
   "source": [
    "> The third PC plot looks very symmetric (except for some outliers). \n",
    "It does not add much information concerning the clustering.\n",
    "It is the same clusters dragged out into another dimension. No interesting splits to see. All centroids almost on one line.\n",
    "Besides, it is hard to find a description for the third dimension. It is not clear which information is contained in there."
   ]
  },
  {
   "cell_type": "markdown",
   "metadata": {
    "collapsed": true
   },
   "source": [
    "**9)** How would you use that technique to help the company design new experiments?"
   ]
  },
  {
   "cell_type": "markdown",
   "metadata": {},
   "source": [
    "Answer:  \n",
    "> In the first step, this new clustering information should be connected to other customer data for new insides. Geolocation could be interesting, or when the actual orders are placed.  \n",
    "Another interesting experiment would be to track the developments over time. For single customers and the whole set. Maybe there is a customer-life-cycle, where they move through different clusters over time. It might be possible to make and algorithm that could learn this pattern and make predictions, how a new customer might evolve."
   ]
  },
  {
   "cell_type": "markdown",
   "metadata": {},
   "source": [
    "**10)** How would you use that data to help you predict future customer needs?"
   ]
  },
  {
   "cell_type": "markdown",
   "metadata": {},
   "source": [
    "Answer:  \n",
    "> You can make better predictions if you put a new customer into the designated cluster first and make your predictions from there. Instead of predicting from the whole set of customers i.e. the average customer.  \n",
    "This information can be used for cross- and upselling offers as well as bulk discounts, depending on the cluster.\n",
    "Sells people can use this data to see if a certain customer has weak sells in a certain category, compared with the other \"reference customers\" in the cluster. They might be able to identify opportunities for new offers to these customers."
   ]
  }
 ],
 "metadata": {
  "kernelspec": {
   "display_name": "Python 2",
   "language": "python",
   "name": "python2"
  },
  "language_info": {
   "codemirror_mode": {
    "name": "ipython",
    "version": 2
   },
   "file_extension": ".py",
   "mimetype": "text/x-python",
   "name": "python",
   "nbconvert_exporter": "python",
   "pygments_lexer": "ipython2",
   "version": "2.7.10"
  }
 },
 "nbformat": 4,
 "nbformat_minor": 0
}
